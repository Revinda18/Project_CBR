{
 "cells": [
  {
   "cell_type": "code",
   "execution_count": 51,
   "id": "99ae0bfe",
   "metadata": {},
   "outputs": [],
   "source": [
    "import pandas as pd\n",
    "from pathlib import Path\n",
    "from sklearn.metrics import precision_score, recall_score, f1_score, accuracy_score\n",
    "import matplotlib.pyplot as plt\n",
    "import seaborn as sns"
   ]
  },
  {
   "cell_type": "code",
   "execution_count": 52,
   "id": "13308623",
   "metadata": {},
   "outputs": [],
   "source": [
    "# Setup Path\n",
    "BASE = Path(r\"D:/SEMESTER 6/PROJECT CBR\")\n",
    "EVAL = BASE / \"data/eval\"\n",
    "RES = BASE / \"data/results\"\n",
    "\n",
    "retrieval_fp = EVAL / \"retrieval_eval_triple.csv\"\n",
    "prediction_fp = RES / \"predictions.csv\""
   ]
  },
  {
   "cell_type": "code",
   "execution_count": 54,
   "id": "663effca",
   "metadata": {},
   "outputs": [],
   "source": [
    "# I. Evaluasi Retrieval (TF-IDF, SVM, BERT)\n",
    "# ─────────────────────────────────────────────\n",
    "df_ret = pd.read_csv(retrieval_fp)\n",
    "\n",
    "# Hitung rata-rata per model\n",
    "mean_metrics = df_ret.groupby(\"model\")[[\"precision@5\", \"recall@5\", \"f1@5\", \"accuracy@5\"]].mean().round(3)"
   ]
  },
  {
   "cell_type": "code",
   "execution_count": 55,
   "id": "e2991b8d",
   "metadata": {},
   "outputs": [
    {
     "name": "stdout",
     "output_type": "stream",
     "text": [
      "📊 Rata-rata Metrik Retrieval:\n",
      "            precision@5  recall@5   f1@5  accuracy@5\n",
      "model                                               \n",
      "IndoBERT           0.04       0.2  0.067         0.2\n",
      "SVM-TF-IDF         0.00       0.0  0.000         0.0\n",
      "TF-IDF             0.00       0.0  0.000         0.0\n"
     ]
    },
    {
     "data": {
      "text/plain": [
       "<Figure size 1000x600 with 0 Axes>"
      ]
     },
     "metadata": {},
     "output_type": "display_data"
    }
   ],
   "source": [
    "# Simpan ulang metrik ke CSV\n",
    "mean_metrics.to_csv(EVAL / \"retrieval_metrics.csv\")\n",
    "print(\"📊 Rata-rata Metrik Retrieval:\")\n",
    "print(mean_metrics)\n",
    "\n",
    "# Visualisasi Bar Chart\n",
    "plt.figure(figsize=(10, 6))\n",
    "mean_metrics.plot(kind='bar')\n",
    "plt.title(\"Performa Retrieval per Model\")\n",
    "plt.ylabel(\"Score\")\n",
    "plt.xticks(rotation=0)\n",
    "plt.grid(axis='y', linestyle='--')\n",
    "plt.tight_layout()\n",
    "plt.savefig(EVAL / \"retrieval_barplot.png\")\n",
    "plt.close()"
   ]
  },
  {
   "cell_type": "code",
   "execution_count": 56,
   "id": "39db9b4b",
   "metadata": {},
   "outputs": [
    {
     "name": "stdout",
     "output_type": "stream",
     "text": [
      "\n",
      "✅ Akurasi Prediksi Solusi:\n",
      "          accuracy\n",
      "method            \n",
      "majority       0.0\n",
      "weighted       0.0\n"
     ]
    }
   ],
   "source": [
    "# Evaluasi Prediksi Solusi\n",
    "df_pred = pd.read_csv(prediction_fp)\n",
    "\n",
    "# Menilai berdasarkan kemiripan string sederhana:\n",
    "def match(a, b):\n",
    "    return int(str(a).strip() == str(b).strip())\n",
    "\n",
    "# Menambahkan ground-truth di sini (simulasi)\n",
    "manual_ground_truth = {\n",
    "    1: \"Dipidana 2 tahun\",\n",
    "    2: \"Mengembalikan uang koperasi\",\n",
    "    3: \"Dijatuhi pidana penjara 5 tahun\",\n",
    "    4: \"Gugatan tidak diterima\",\n",
    "    5: \"Dihukum 1 tahun 6 bulan\"\n",
    "}\n",
    "df_pred[\"true_solution\"] = df_pred[\"query_id\"].map(manual_ground_truth)\n",
    "\n",
    "# Hitung akurasi sederhana (string match)\n",
    "df_pred[\"correct\"] = df_pred.apply(lambda x: match(x[\"predicted_solution\"], x[\"true_solution\"]), axis=1)\n",
    "df_score = df_pred.groupby(\"method\")[\"correct\"].agg([\"sum\", \"count\"])\n",
    "df_score[\"accuracy\"] = (df_score[\"sum\"] / df_score[\"count\"]).round(3)\n",
    "df_score = df_score[[\"accuracy\"]]\n",
    "\n",
    "# Simpan\n",
    "df_score.to_csv(EVAL / \"prediction_metrics.csv\")\n",
    "print(\"\\n✅ Akurasi Prediksi Solusi:\")\n",
    "print(df_score)\n"
   ]
  }
 ],
 "metadata": {
  "kernelspec": {
   "display_name": "Python 3",
   "language": "python",
   "name": "python3"
  },
  "language_info": {
   "codemirror_mode": {
    "name": "ipython",
    "version": 3
   },
   "file_extension": ".py",
   "mimetype": "text/x-python",
   "name": "python",
   "nbconvert_exporter": "python",
   "pygments_lexer": "ipython3",
   "version": "3.12.6"
  }
 },
 "nbformat": 4,
 "nbformat_minor": 5
}
