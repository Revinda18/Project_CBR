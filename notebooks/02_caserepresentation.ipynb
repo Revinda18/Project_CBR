{
 "cells": [
  {
   "cell_type": "code",
   "execution_count": 1,
   "id": "2762805d",
   "metadata": {},
   "outputs": [],
   "source": [
    "import json\n",
    "import pandas as pd\n",
    "import re\n",
    "import os\n",
    "from collections import Counter\n",
    "from pathlib import Path\n",
    "from pathlib import Path"
   ]
  },
  {
   "cell_type": "code",
   "execution_count": 2,
   "id": "b03cc429",
   "metadata": {},
   "outputs": [
    {
     "name": "stderr",
     "output_type": "stream",
     "text": [
      "<>:2: SyntaxWarning: invalid escape sequence '\\S'\n",
      "<>:2: SyntaxWarning: invalid escape sequence '\\S'\n",
      "C:\\Users\\ASUS\\AppData\\Local\\Temp\\ipykernel_6772\\1433169407.py:2: SyntaxWarning: invalid escape sequence '\\S'\n",
      "  df = pd.read_csv(\"D:\\SEMESTER 6\\PROJECT CBR\\putusan_ma__2025-06-23.csv\")\n"
     ]
    }
   ],
   "source": [
    "# Baca data dulu ke dalam df\n",
    "df = pd.read_csv(\"D:\\SEMESTER 6\\PROJECT CBR\\putusan_ma__2025-06-23.csv\") "
   ]
  },
  {
   "cell_type": "code",
   "execution_count": 3,
   "id": "c2cd7329",
   "metadata": {},
   "outputs": [],
   "source": [
    "# Fungsi Ringkasan Fakta\n",
    "def ringkasan_fakta(teks):\n",
    "    kalimat = str(teks).split('. ')\n",
    "    return '. '.join(kalimat[:2]).strip()\n",
    "\n",
    "# Fungsi Argumen Hukum\n",
    "def argumen_hukum(teks):\n",
    "    kalimat = [k for k in str(teks).split('. ') if 'pasal' in k.lower()]\n",
    "    return '. '.join(kalimat[:2]).strip()\n",
    "\n",
    "# Jumlah kata\n",
    "def jumlah_kata(teks):\n",
    "    return len(str(teks).split())\n",
    "\n",
    "# Bag-of-Words (ambil top 5 kata paling sering)\n",
    "def bag_of_words(teks, top_n=5):\n",
    "    words = re.findall(r'\\b\\w+\\b', str(teks).lower())\n",
    "    stopwords = {'yang', 'dan', 'di', 'ke', 'dengan', 'untuk', 'dari', 'pada', 'adalah'}\n",
    "    words = [w for w in words if w not in stopwords]\n",
    "    common = Counter(words).most_common(top_n)\n",
    "    return ', '.join([w for w, _ in common])\n",
    "\n",
    "# QA-pairs sederhana\n",
    "def qa_pair(fakta, amar):\n",
    "    if not isinstance(fakta, str) or not isinstance(amar, str):\n",
    "        return \"-\"\n",
    "    tanya = f\"Apa yang terjadi dalam kasus ini? {fakta}\"\n",
    "    jawab = f\"Apa hasil putusannya? {amar}\"\n",
    "    return f\"Q: {tanya}\\nA: {jawab}\"\n",
    "\n",
    "# Tambahkan kolom-kolom baru\n",
    "df['case_id'] = df.index + 1\n",
    "df['ringkasan_fakta'] = df['text_pdf'].apply(ringkasan_fakta)\n",
    "df['argumen_hukum'] = df['text_pdf'].apply(argumen_hukum)\n",
    "df['text_length'] = df['text_pdf'].apply(jumlah_kata)\n",
    "df['bag_of_words'] = df['text_pdf'].apply(bag_of_words)\n",
    "df['qa_pair'] = df.apply(lambda x: qa_pair(x['ringkasan_fakta'], x['amar']), axis=1)\n",
    "\n",
    "# Pilih kolom akhir yang ingin disimpan\n",
    "cols = ['case_id', 'nomor', 'tanggal_register', 'klasifikasi', 'ringkasan_fakta',\n",
    "        'argumen_hukum', 'amar', 'hakim_ketua', 'text_pdf', 'text_length', 'bag_of_words', 'qa_pair']\n",
    "\n",
    "# Buat folder 'data/processed' jika belum ada\n",
    "Path(r\"D:/SEMESTER 6/PROJECT CBR/data/processed\").mkdir(parents=True, exist_ok=True)\n",
    "\n",
    "# Simpan ke CSV\n",
    "df[cols].to_csv(\"D:/SEMESTER 6/PROJECT CBR/data/processed/cases.csv\", index=False, encoding='utf-8')\n",
    "\n",
    "# Simpan juga ke JSON\n",
    "df[cols].to_json(\"D:/SEMESTER 6/PROJECT CBR/data/processed/cases.json\", orient='records', force_ascii=False, indent=2)"
   ]
  }
 ],
 "metadata": {
  "kernelspec": {
   "display_name": "Python 3",
   "language": "python",
   "name": "python3"
  },
  "language_info": {
   "codemirror_mode": {
    "name": "ipython",
    "version": 3
   },
   "file_extension": ".py",
   "mimetype": "text/x-python",
   "name": "python",
   "nbconvert_exporter": "python",
   "pygments_lexer": "ipython3",
   "version": "3.12.6"
  }
 },
 "nbformat": 4,
 "nbformat_minor": 5
}
