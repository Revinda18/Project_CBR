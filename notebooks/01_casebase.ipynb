{
 "cells": [
  {
   "cell_type": "code",
   "execution_count": 11,
   "id": "ef60d059",
   "metadata": {},
   "outputs": [],
   "source": [
    "import pandas as pd\n",
    "import re\n",
    "from pathlib import Path"
   ]
  },
  {
   "cell_type": "code",
   "execution_count": 12,
   "id": "9d837c1e",
   "metadata": {},
   "outputs": [],
   "source": [
    "# Set base path\n",
    "BASE_PATH = Path(\"D:/SEMESTER 6/PROJECT CBR/data\")\n",
    "RAW_PATH = BASE_PATH / \"raw\"\n",
    "LOG_PATH = BASE_PATH / \"logs\"\n",
    "\n",
    "# Buat folder jika belum ada\n",
    "RAW_PATH.mkdir(parents=True, exist_ok=True)\n",
    "LOG_PATH.mkdir(parents=True, exist_ok=True)\n",
    "\n",
    "# Load data hasil scraping\n",
    "df = pd.read_csv(\"D:/SEMESTER 6/PROJECT CBR/putusan_ma__2025-06-23.csv\")\n",
    "\n",
    "# Fungsi cleaning\n",
    "def clean_text(text):\n",
    "    text = str(text)\n",
    "    text = re.sub(r\"\\n+\", \" \", text)\n",
    "    text = re.sub(r\"\\s+\", \" \", text)\n",
    "    text = re.sub(r\"[^a-zA-Z0-9\\s]\", \"\", text)  # bisa disesuaikan\n",
    "    return text.lower().strip()\n",
    "\n",
    "# File log\n",
    "log_file = open(LOG_PATH / \"cleaning.log\", \"w\", encoding=\"utf-8\")\n",
    "\n",
    "# Loop per dokumen\n",
    "for i, row in df.iterrows():\n",
    "    try:\n",
    "        teks_asli = row.get('text_pdf', '')\n",
    "        teks_bersih = clean_text(teks_asli)\n",
    "        filename = RAW_PATH / f\"case_{i+1:03}.txt\"\n",
    "        with open(filename, \"w\", encoding=\"utf-8\") as f:\n",
    "            f.write(teks_bersih)\n",
    "\n",
    "        if len(teks_bersih) / max(len(teks_asli), 1) >= 0.8:\n",
    "            log_file.write(f\"[OK] {filename.name}\\n\")\n",
    "        else:\n",
    "            log_file.write(f\"[WARN] {filename.name} - <80% teks\\n\")\n",
    "    except Exception as e:\n",
    "        log_file.write(f\"[ERROR] case_{i+1:03}.txt - {str(e)}\\n\")\n",
    "\n",
    "log_file.close()\n"
   ]
  }
 ],
 "metadata": {
  "kernelspec": {
   "display_name": "Python 3",
   "language": "python",
   "name": "python3"
  },
  "language_info": {
   "codemirror_mode": {
    "name": "ipython",
    "version": 3
   },
   "file_extension": ".py",
   "mimetype": "text/x-python",
   "name": "python",
   "nbconvert_exporter": "python",
   "pygments_lexer": "ipython3",
   "version": "3.12.6"
  }
 },
 "nbformat": 4,
 "nbformat_minor": 5
}
