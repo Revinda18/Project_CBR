{
 "cells": [
  {
   "cell_type": "code",
   "execution_count": 1,
   "id": "ef60d059",
   "metadata": {},
   "outputs": [],
   "source": [
    "import pandas as pd\n",
    "import re\n",
    "from pathlib import Path"
   ]
  },
  {
   "cell_type": "code",
   "execution_count": 2,
   "id": "9d837c1e",
   "metadata": {},
   "outputs": [
    {
     "name": "stderr",
     "output_type": "stream",
     "text": [
      "<>:2: SyntaxWarning: invalid escape sequence '\\S'\n",
      "<>:2: SyntaxWarning: invalid escape sequence '\\S'\n",
      "C:\\Users\\ASUS\\AppData\\Local\\Temp\\ipykernel_24068\\3195484553.py:2: SyntaxWarning: invalid escape sequence '\\S'\n",
      "  df = pd.read_csv(\"D:\\SEMESTER 6\\PENALARAN KOMPUTER (UAS)\\putusan_ma__2025-06-23.csv\")\n"
     ]
    }
   ],
   "source": [
    "# Load data mentah hasil scraping\n",
    "df = pd.read_csv(\"D:\\SEMESTER 6\\PENALARAN KOMPUTER (UAS)\\putusan_ma__2025-06-23.csv\")\n",
    "\n",
    "# Cleaning teks putusan\n",
    "def clean_text(text):\n",
    "    text = str(text)\n",
    "    text = re.sub(r\"\\n+\", \" \", text)\n",
    "    text = re.sub(r\"\\s+\", \" \", text)\n",
    "    text = re.sub(r\"[^a-zA-Z0-9\\s]\", \"\", text)\n",
    "    return text.lower().strip()\n",
    "\n",
    "Path(\"data/raw\").mkdir(parents=True, exist_ok=True)\n",
    "Path(\"logs\").mkdir(parents=True, exist_ok=True)\n",
    "log_file = open(\"logs/cleaning.log\", \"w\", encoding=\"utf-8\")\n",
    "\n",
    "for i, row in df.iterrows():\n",
    "    try:\n",
    "        teks_asli = row.get('text_pdf', '')\n",
    "        teks_bersih = clean_text(teks_asli)\n",
    "        filename = f\"data/raw/case_{i+1:03}.txt\"\n",
    "        with open(filename, \"w\", encoding=\"utf-8\") as f:\n",
    "            f.write(teks_bersih)\n",
    "        if len(teks_bersih) / max(len(teks_asli), 1) >= 0.8:\n",
    "            log_file.write(f\"[OK] {filename}\\n\")\n",
    "        else:\n",
    "            log_file.write(f\"[WARN] {filename} - <80% teks\\n\")\n",
    "    except Exception as e:\n",
    "        log_file.write(f\"[ERROR] case_{i+1:03}.txt - {str(e)}\\n\")\n",
    "\n",
    "log_file.close()"
   ]
  }
 ],
 "metadata": {
  "kernelspec": {
   "display_name": "Python 3",
   "language": "python",
   "name": "python3"
  },
  "language_info": {
   "codemirror_mode": {
    "name": "ipython",
    "version": 3
   },
   "file_extension": ".py",
   "mimetype": "text/x-python",
   "name": "python",
   "nbconvert_exporter": "python",
   "pygments_lexer": "ipython3",
   "version": "3.12.6"
  }
 },
 "nbformat": 4,
 "nbformat_minor": 5
}
