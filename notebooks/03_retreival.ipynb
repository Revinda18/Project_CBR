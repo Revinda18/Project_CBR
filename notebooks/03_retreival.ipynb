{
 "cells": [
  {
   "cell_type": "code",
   "execution_count": 79,
   "id": "c8e10059",
   "metadata": {},
   "outputs": [],
   "source": [
    "import re, json, torch, numpy as np, pandas as pd\n",
    "from pathlib import Path\n",
    "from sklearn.feature_extraction.text import TfidfVectorizer\n",
    "from sklearn.metrics.pairwise import cosine_similarity\n",
    "from sklearn.model_selection import train_test_split\n",
    "from sklearn.svm import LinearSVC\n",
    "from transformers import AutoTokenizer, AutoModel"
   ]
  },
  {
   "cell_type": "code",
   "execution_count": 80,
   "id": "313f0b12",
   "metadata": {},
   "outputs": [],
   "source": [
    "# Persiapan Data\n",
    "BASE = Path(r\"D:/SEMESTER 6/PROJECT CBR\")\n",
    "DATA = BASE / \"data\"\n",
    "PROC = DATA / \"processed\"\n",
    "EVAL = DATA / \"eval\"\n",
    "PROC.mkdir(parents=True, exist_ok=True)\n",
    "EVAL.mkdir(parents=True, exist_ok=True)\n",
    "\n",
    "cases_fp = PROC / \"cases.csv\"\n",
    "df = pd.read_csv(cases_fp)\n",
    "df[\"text_pdf\"] = df[\"text_pdf\"].fillna(\"\").astype(str)"
   ]
  },
  {
   "cell_type": "code",
   "execution_count": 81,
   "id": "7be2dd06",
   "metadata": {},
   "outputs": [],
   "source": [
    "# Clean + Ringkasan\n",
    "def clean_header(t: str) -> str:\n",
    "    t = re.sub(r\"Mahkamah Agung.*?\\n\", \" \", t, flags=re.I|re.S)\n",
    "    t = re.sub(r\"Direktori Putusan.*?\\n\", \" \", t, flags=re.I|re.S)\n",
    "    t = re.sub(r\"Halaman \\d+\\s*\", \" \", t, flags=re.I)\n",
    "    return t\n",
    "\n",
    "def ringkasan_fakta(t: str, n=3) -> str:\n",
    "    kal = [k.strip() for k in re.split(r\"\\.\\s+\", clean_header(str(t))) if len(k.strip()) > 20]\n",
    "    return \". \".join(kal[:n])\n",
    "\n",
    "df[\"ringkasan_fakta\"] = df[\"text_pdf\"].apply(ringkasan_fakta)"
   ]
  },
  {
   "cell_type": "code",
   "execution_count": 82,
   "id": "a9c1050c",
   "metadata": {},
   "outputs": [
    {
     "name": "stdout",
     "output_type": "stream",
     "text": [
      "TF-IDF features: 8866\n"
     ]
    }
   ],
   "source": [
    "# TF-IDF vectorizer (single instance)\n",
    "vectorizer = TfidfVectorizer(\n",
    "    ngram_range=(1, 2),\n",
    "    min_df=1,\n",
    "    max_df=0.95,\n",
    "    token_pattern=r\"(?u)\\b[a-zA-Z]{2,}\\b\"\n",
    ")\n",
    "X_tfidf = vectorizer.fit_transform(df[\"ringkasan_fakta\"])\n",
    "print(\"TF-IDF features:\", X_tfidf.shape[1])"
   ]
  },
  {
   "cell_type": "code",
   "execution_count": 83,
   "id": "5b69082f",
   "metadata": {},
   "outputs": [],
   "source": [
    "# Cosine Retrieval (TF-IDF)\n",
    "def retrieve_cosine(q: str, k=5):\n",
    "    sims = cosine_similarity(vectorizer.transform([q]), X_tfidf).flatten()\n",
    "    top  = sims.argsort()[::-1][:k]\n",
    "    return df.iloc[top][\"case_id\"].tolist()"
   ]
  },
  {
   "cell_type": "code",
   "execution_count": 85,
   "id": "953959bd",
   "metadata": {},
   "outputs": [],
   "source": [
    "# SVM Retrieval (TF-IDF)\n",
    "X_tr, X_te, y_tr, y_te = train_test_split(X_tfidf, df[\"klasifikasi\"], test_size=0.3, random_state=42)\n",
    "svm_clf = LinearSVC().fit(X_tr, y_tr)\n",
    "\n",
    "def retrieve_svm(q: str, k=5):\n",
    "    cls = svm_clf.predict(vectorizer.transform([q]))[0]\n",
    "    sub = df[df[\"klasifikasi\"] == cls]\n",
    "    if sub.empty: return []\n",
    "    sims = cosine_similarity(vectorizer.transform([q]), vectorizer.transform(sub[\"ringkasan_fakta\"])).flatten()\n",
    "    top  = sims.argsort()[::-1][:k]\n",
    "    return sub.iloc[top][\"case_id\"].tolist()"
   ]
  },
  {
   "cell_type": "code",
   "execution_count": 86,
   "id": "2bc278d3",
   "metadata": {},
   "outputs": [
    {
     "name": "stdout",
     "output_type": "stream",
     "text": [
      "⏳ Memuat IndoBERT…\n",
      "🔄 Menghitung embedding dokumen…\n"
     ]
    }
   ],
   "source": [
    "# IndoBERT Embedding\n",
    "print(\"⏳ Memuat IndoBERT…\")\n",
    "tok = AutoTokenizer.from_pretrained(\"indobenchmark/indobert-base-p1\")\n",
    "bert = AutoModel.from_pretrained(\"indobenchmark/indobert-base-p1\").eval()\n",
    "\n",
    "@torch.no_grad()\n",
    "def emb(text: str):\n",
    "    t = tok(text, return_tensors=\"pt\", truncation=True, padding=True, max_length=128)\n",
    "    return bert(**t).last_hidden_state[:, 0, :].squeeze().cpu().numpy()\n",
    "\n",
    "print(\"🔄 Menghitung embedding dokumen…\")\n",
    "doc_emb = np.vstack([emb(t) for t in df[\"ringkasan_fakta\"]])\n",
    "\n",
    "def retrieve_bert(q: str, k=5):\n",
    "    qv   = emb(q)\n",
    "    sims = cosine_similarity([qv], doc_emb).flatten()\n",
    "    top  = sims.argsort()[::-1][:k]\n",
    "    return df.iloc[top][\"case_id\"].tolist()"
   ]
  }
 ],
 "metadata": {
  "kernelspec": {
   "display_name": "Python 3",
   "language": "python",
   "name": "python3"
  },
  "language_info": {
   "codemirror_mode": {
    "name": "ipython",
    "version": 3
   },
   "file_extension": ".py",
   "mimetype": "text/x-python",
   "name": "python",
   "nbconvert_exporter": "python",
   "pygments_lexer": "ipython3",
   "version": "3.12.6"
  }
 },
 "nbformat": 4,
 "nbformat_minor": 5
}
