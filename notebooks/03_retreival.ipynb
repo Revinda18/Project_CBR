{
 "cells": [
  {
   "cell_type": "code",
   "execution_count": 6,
   "id": "c8e10059",
   "metadata": {},
   "outputs": [],
   "source": [
    "from sklearn.model_selection import train_test_split\n",
    "from sklearn.svm import LinearSVC\n",
    "from sklearn.metrics import classification_report\n",
    "from sklearn.feature_extraction.text import TfidfVectorizer\n",
    "from sklearn.metrics.pairwise import cosine_similarity\n",
    "from transformers import AutoTokenizer, AutoModel\n",
    "from pathlib import Path\n",
    "import torch\n",
    "import numpy as np\n",
    "import json\n",
    "import pandas as pd"
   ]
  },
  {
   "cell_type": "code",
   "execution_count": 7,
   "id": "313f0b12",
   "metadata": {},
   "outputs": [],
   "source": [
    "# Load data\n",
    "df = pd.read_csv(\"D:/SEMESTER 6/PROJECT CBR/data/processed/cases.csv\")"
   ]
  },
  {
   "cell_type": "code",
   "execution_count": 8,
   "id": "bc5c5269",
   "metadata": {},
   "outputs": [],
   "source": [
    "# Pastikan kolom tidak ada NaN\n",
    "df['ringkasan_fakta'] = df['ringkasan_fakta'].fillna(\"\").astype(str)\n",
    "\n",
    "# TF-IDF Vectorization\n",
    "vectorizer = TfidfVectorizer()\n",
    "X_vector = vectorizer.fit_transform(df['ringkasan_fakta'])\n",
    "\n",
    "# Simpan versi full matrix untuk cosine similarity (retrieval)\n",
    "tfidf_matrix_full = vectorizer.transform(df['ringkasan_fakta'])"
   ]
  },
  {
   "cell_type": "code",
   "execution_count": 9,
   "id": "bcc4a734",
   "metadata": {},
   "outputs": [
    {
     "name": "stdout",
     "output_type": "stream",
     "text": [
      "=== Evaluasi SVM Klasifikasi ===\n",
      "                                           precision    recall  f1-score   support\n",
      "\n",
      "Perdata Agama \n",
      " Perdata Agama  Perceraian       1.00      1.00      1.00        34\n",
      "\n",
      "                                 accuracy                           1.00        34\n",
      "                                macro avg       1.00      1.00      1.00        34\n",
      "                             weighted avg       1.00      1.00      1.00        34\n",
      "\n"
     ]
    }
   ],
   "source": [
    "# SVM Classifier\n",
    "X_train, X_test, y_train, y_test = train_test_split(\n",
    "    X_vector, df['klasifikasi'], test_size=0.3, random_state=42\n",
    ")\n",
    "\n",
    "svm_model = LinearSVC()\n",
    "svm_model.fit(X_train, y_train)\n",
    "\n",
    "# Evaluasi model klasifikasi\n",
    "print(\"=== Evaluasi SVM Klasifikasi ===\")\n",
    "print(classification_report(y_test, svm_model.predict(X_test)))"
   ]
  },
  {
   "cell_type": "code",
   "execution_count": 10,
   "id": "55c34952",
   "metadata": {},
   "outputs": [
    {
     "name": "stdout",
     "output_type": "stream",
     "text": [
      "⏳ Memuat model IndoBERT...\n",
      "🔄 Menghitung embedding dokumen...\n"
     ]
    }
   ],
   "source": [
    "# IndoBERT Embedding\n",
    "print(\"⏳ Memuat model IndoBERT...\")\n",
    "model_name = \"indobenchmark/indobert-base-p1\"\n",
    "tokenizer = AutoTokenizer.from_pretrained(model_name)\n",
    "bert_model = AutoModel.from_pretrained(model_name)\n",
    "bert_model.eval()\n",
    "\n",
    "def get_embedding(text):\n",
    "    inputs = tokenizer(text, return_tensors=\"pt\", truncation=True, padding=True, max_length=128)\n",
    "    with torch.no_grad():\n",
    "        outputs = bert_model(**inputs)\n",
    "    return outputs.last_hidden_state[:, 0, :].squeeze().numpy()\n",
    "\n",
    "print(\"🔄 Menghitung embedding dokumen...\")\n",
    "doc_embeddings = np.array([get_embedding(text) for text in df['ringkasan_fakta']])"
   ]
  },
  {
   "cell_type": "code",
   "execution_count": 11,
   "id": "469ee7d2",
   "metadata": {},
   "outputs": [],
   "source": [
    "# Preprocessing Query\n",
    "def preprocess_query(query):\n",
    "    return query.lower()"
   ]
  },
  {
   "cell_type": "code",
   "execution_count": 12,
   "id": "f951c502",
   "metadata": {},
   "outputs": [],
   "source": [
    "# Retrieval Functions\n",
    "\n",
    "# TF-IDF + cosine\n",
    "def retrieve_tfidf(query: str, k: int = 5):\n",
    "    query_clean = preprocess_query(query)\n",
    "    query_vec = vectorizer.transform([query_clean])\n",
    "    sims = cosine_similarity(query_vec, tfidf_matrix_full).flatten()\n",
    "    top_k = sims.argsort()[-k:][::-1]\n",
    "    return df.iloc[top_k]['case_id'].tolist()\n",
    "\n",
    "# IndoBERT + cosine\n",
    "def retrieve_bert(query: str, k: int = 5):\n",
    "    query_embedding = get_embedding(query)\n",
    "    sims = cosine_similarity([query_embedding], doc_embeddings).flatten()\n",
    "    top_k = sims.argsort()[-k:][::-1]\n",
    "    return df.iloc[top_k]['case_id'].tolist()\n",
    "\n",
    "# SVM klasifikasi\n",
    "def retrieve_svm_class(query: str, k: int = 5):\n",
    "    query_vec = vectorizer.transform([preprocess_query(query)])\n",
    "    label = svm_model.predict(query_vec)[0]\n",
    "    filtered = df[df['klasifikasi'] == label]\n",
    "    return label, filtered['case_id'].tolist()[:k]"
   ]
  },
  {
   "cell_type": "code",
   "execution_count": 13,
   "id": "19506165",
   "metadata": {},
   "outputs": [
    {
     "name": "stdout",
     "output_type": "stream",
     "text": [
      "D:/SEMESTER 6/PROJECT CBR/data/eval/queries.jso berhasil dibuat.\n"
     ]
    }
   ],
   "source": [
    "# Pastikan folder eval tersedia\n",
    "Path(\"D:/SEMESTER 6/PROJECT CBR/data/eval\").mkdir(parents=True, exist_ok=True)\n",
    "\n",
    "# Daftar query uji dan ground-truth\n",
    "queries = [\n",
    "    {\"query_id\": 1, \"query\": \"terdakwa mencuri motor di malam hari\", \"ground_truth\": [1]},\n",
    "    {\"query_id\": 2, \"query\": \"kasus penggelapan dana koperasi\", \"ground_truth\": [3]},\n",
    "    {\"query_id\": 3, \"query\": \"tersangka membawa narkoba dalam tas\", \"ground_truth\": [5]},\n",
    "    {\"query_id\": 4, \"query\": \"sengketa jual beli tanah\", \"ground_truth\": [9]},\n",
    "    {\"query_id\": 5, \"query\": \"kekerasan dalam rumah tangga\", \"ground_truth\": [12]}\n",
    "]\n",
    "\n",
    "# Simpan ke file JSON\n",
    "with open(\"D:/SEMESTER 6/PROJECT CBR/data/eval/queries.json\", \"w\", encoding=\"utf-8\") as f:\n",
    "    json.dump(queries, f, indent=2, ensure_ascii=False)\n",
    "\n",
    "print(\"D:/SEMESTER 6/PROJECT CBR/data/eval/queries.jso berhasil dibuat.\")"
   ]
  }
 ],
 "metadata": {
  "kernelspec": {
   "display_name": "Python 3",
   "language": "python",
   "name": "python3"
  },
  "language_info": {
   "codemirror_mode": {
    "name": "ipython",
    "version": 3
   },
   "file_extension": ".py",
   "mimetype": "text/x-python",
   "name": "python",
   "nbconvert_exporter": "python",
   "pygments_lexer": "ipython3",
   "version": "3.12.6"
  }
 },
 "nbformat": 4,
 "nbformat_minor": 5
}
