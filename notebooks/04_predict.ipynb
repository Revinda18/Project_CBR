{
 "cells": [
  {
   "cell_type": "code",
   "execution_count": 40,
   "id": "5266b1ba",
   "metadata": {},
   "outputs": [],
   "source": [
    "import re, json, pandas as pd, numpy as np\n",
    "from pathlib import Path\n",
    "from sklearn.metrics.pairwise import cosine_similarity\n",
    "from collections import Counter\n",
    "from sklearn.feature_extraction.text import TfidfVectorizer"
   ]
  },
  {
   "cell_type": "code",
   "execution_count": 41,
   "id": "c7638e56",
   "metadata": {},
   "outputs": [],
   "source": [
    "# Persiapan & Load Data\n",
    "BASE = Path(r\"D:/SEMESTER 6/PROJECT CBR\")\n",
    "DATA = BASE / \"data\"\n",
    "PROC = DATA / \"processed\"\n",
    "EVAL = DATA / \"eval\"\n",
    "RES  = DATA / \"results\"\n",
    "RES.mkdir(parents=True, exist_ok=True)\n",
    "\n",
    "df = pd.read_csv(PROC / \"cases.csv\")\n",
    "df[\"amar\"] = df[\"amar\"].fillna(\"\").astype(str)\n",
    "df[\"ringkasan_fakta\"] = df[\"ringkasan_fakta\"].fillna(\"\").astype(str)"
   ]
  },
  {
   "cell_type": "code",
   "execution_count": 42,
   "id": "343a66b8",
   "metadata": {},
   "outputs": [],
   "source": [
    "# TF-IDF Vectorizer untuk Reuse\n",
    "\n",
    "vectorizer = TfidfVectorizer(ngram_range=(1, 2),\n",
    "                            token_pattern=r\"(?u)\\b[a-zA-Z]{2,}\\b\",\n",
    "                            min_df=1, max_df=0.95)\n",
    "tfidf_matrix = vectorizer.fit_transform(df[\"ringkasan_fakta\"])"
   ]
  },
  {
   "cell_type": "code",
   "execution_count": 43,
   "id": "10d1485b",
   "metadata": {},
   "outputs": [],
   "source": [
    "# Dictionary: {case_id: amar_putusan}\n",
    "case_solutions = dict(zip(df[\"case_id\"], df[\"amar\"]))\n"
   ]
  },
  {
   "cell_type": "code",
   "execution_count": 44,
   "id": "bd048c88",
   "metadata": {},
   "outputs": [],
   "source": [
    "# Retrieval Function (TF-IDF cosine)\n",
    "def retrieve(query: str, k=5):\n",
    "    vec = vectorizer.transform([query])\n",
    "    sims = cosine_similarity(vec, tfidf_matrix).flatten()\n",
    "    top_idx = sims.argsort()[::-1][:k]\n",
    "    case_ids = df.iloc[top_idx][\"case_id\"].tolist()\n",
    "    sim_scores = sims[top_idx]\n",
    "    return case_ids, sim_scores\n"
   ]
  },
  {
   "cell_type": "code",
   "execution_count": 45,
   "id": "252fafa5",
   "metadata": {},
   "outputs": [],
   "source": [
    "# Predict Outcome – Majority Vote\n",
    "def predict_majority(query: str, k=5):\n",
    "    case_ids, _ = retrieve(query, k)\n",
    "    solutions = [case_solutions.get(cid, \"\") for cid in case_ids if cid in case_solutions]\n",
    "    count = Counter(solutions)\n",
    "    pred = count.most_common(1)[0][0] if count else \"\"\n",
    "    return pred, case_ids"
   ]
  },
  {
   "cell_type": "code",
   "execution_count": 46,
   "id": "ec469041",
   "metadata": {},
   "outputs": [],
   "source": [
    "# Predict Outcome – Weighted Similarity\n",
    "def predict_weighted(query: str, k=5):\n",
    "    case_ids, scores = retrieve(query, k)\n",
    "    weights = {}\n",
    "    for cid, score in zip(case_ids, scores):\n",
    "        sol = case_solutions.get(cid, \"\")\n",
    "        if sol not in weights:\n",
    "            weights[sol] = 0\n",
    "        weights[sol] += score\n",
    "    pred = max(weights, key=weights.get) if weights else \"\"\n",
    "    return pred, case_ids\n"
   ]
  },
  {
   "cell_type": "code",
   "execution_count": 47,
   "id": "0800e1c2",
   "metadata": {},
   "outputs": [],
   "source": [
    "# Evaluasi Manual – 5 Query Baru\n",
    "queries = json.loads((EVAL / \"queries.json\").read_text(encoding=\"utf-8\"))\n",
    "\n",
    "rows = []\n",
    "for q in queries:\n",
    "    qid, qtext = q[\"query_id\"], q[\"query\"]\n",
    "\n",
    "    pred_majority, cases_maj = predict_majority(qtext)\n",
    "    pred_weighted, cases_weight = predict_weighted(qtext)\n",
    "\n",
    "    rows.append({\n",
    "        \"query_id\": qid,\n",
    "        \"query\": qtext,\n",
    "        \"method\": \"majority\",\n",
    "        \"predicted_solution\": pred_majority,\n",
    "        \"top_5_case_ids\": cases_maj\n",
    "    })\n",
    "    rows.append({\n",
    "        \"query_id\": qid,\n",
    "        \"query\": qtext,\n",
    "        \"method\": \"weighted\",\n",
    "        \"predicted_solution\": pred_weighted,\n",
    "        \"top_5_case_ids\": cases_weight\n",
    "    })\n"
   ]
  },
  {
   "cell_type": "code",
   "execution_count": 48,
   "id": "5a42476d",
   "metadata": {},
   "outputs": [
    {
     "name": "stdout",
     "output_type": "stream",
     "text": [
      "✅ Disimpan ke: D:\\SEMESTER 6\\PROJECT CBR\\data\\results\\predictions.csv\n",
      "   query_id                                 query    method  \\\n",
      "0         1  terdakwa mencuri motor di malam hari  majority   \n",
      "1         1  terdakwa mencuri motor di malam hari  weighted   \n",
      "2         2       kasus penggelapan dana koperasi  majority   \n",
      "3         2       kasus penggelapan dana koperasi  weighted   \n",
      "4         3   tersangka membawa narkoba dalam tas  majority   \n",
      "5         3   tersangka membawa narkoba dalam tas  weighted   \n",
      "6         4              sengketa jual beli tanah  majority   \n",
      "7         4              sengketa jual beli tanah  weighted   \n",
      "8         5          kekerasan dalam rumah tangga  majority   \n",
      "9         5          kekerasan dalam rumah tangga  weighted   \n",
      "\n",
      "  predicted_solution          top_5_case_ids  \n",
      "0          Lain-lain   [57, 89, 94, 108, 80]  \n",
      "1          Lain-lain   [57, 89, 94, 108, 80]  \n",
      "2          Lain-lain  [112, 111, 30, 31, 32]  \n",
      "3          Lain-lain  [112, 111, 30, 31, 32]  \n",
      "4          Lain-lain  [112, 111, 30, 31, 32]  \n",
      "5          Lain-lain  [112, 111, 30, 31, 32]  \n",
      "6          Lain-lain  [108, 112, 41, 30, 31]  \n",
      "7          Lain-lain  [108, 112, 41, 30, 31]  \n",
      "8          Lain-lain    [69, 92, 90, 88, 58]  \n",
      "9          Lain-lain    [69, 92, 90, 88, 58]  \n"
     ]
    }
   ],
   "source": [
    "# Simpan ke CSV\n",
    "df_out = pd.DataFrame(rows)\n",
    "df_out.to_csv(RES / \"predictions.csv\", index=False)\n",
    "\n",
    "print(\"✅ Disimpan ke:\", RES / \"predictions.csv\")\n",
    "print(df_out.head(10))"
   ]
  }
 ],
 "metadata": {
  "kernelspec": {
   "display_name": "Python 3",
   "language": "python",
   "name": "python3"
  },
  "language_info": {
   "codemirror_mode": {
    "name": "ipython",
    "version": 3
   },
   "file_extension": ".py",
   "mimetype": "text/x-python",
   "name": "python",
   "nbconvert_exporter": "python",
   "pygments_lexer": "ipython3",
   "version": "3.12.6"
  }
 },
 "nbformat": 4,
 "nbformat_minor": 5
}
