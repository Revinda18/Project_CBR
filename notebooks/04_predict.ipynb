{
 "cells": [
  {
   "cell_type": "code",
   "execution_count": 1,
   "id": "5266b1ba",
   "metadata": {},
   "outputs": [],
   "source": [
    "import pandas as pd\n",
    "import json\n",
    "from pathlib import Path\n",
    "from sklearn.metrics.pairwise import cosine_similarity\n",
    "from collections import Counter"
   ]
  },
  {
   "cell_type": "code",
   "execution_count": 2,
   "id": "c7638e56",
   "metadata": {},
   "outputs": [],
   "source": [
    "# Load dataset hasil tahap 2/3\n",
    "df = pd.read_csv(\"D:/SEMESTER 6/PROJECT CBR/data/processed/cases.csv\")\n",
    "\n",
    "# Load queries.json (5 contoh query)\n",
    "with open(\"D:/SEMESTER 6/PROJECT CBR/data/eval/queries.json\", \"r\", encoding=\"utf-8\") as f:\n",
    "    queries = json.load(f)"
   ]
  },
  {
   "cell_type": "code",
   "execution_count": 3,
   "id": "343a66b8",
   "metadata": {},
   "outputs": [
    {
     "name": "stdout",
     "output_type": "stream",
     "text": [
      "File D:/SEMESTER 6/PROJECT CBR/data/results/predictions.csv berhasil dibuat.\n"
     ]
    }
   ],
   "source": [
    "# Pastikan ringkasan fakta tidak NaN\n",
    "df['ringkasan_fakta'] = df['ringkasan_fakta'].fillna(\"\")\n",
    "df['amar'] = df['amar'].fillna(\"Tidak ada amar\")\n",
    "\n",
    "# TF-IDF Vectorization untuk Similarity\n",
    "from sklearn.feature_extraction.text import TfidfVectorizer\n",
    "vectorizer = TfidfVectorizer()\n",
    "tfidf_matrix = vectorizer.fit_transform(df['ringkasan_fakta'])\n",
    "\n",
    "# Ekstraksi solusi → dict {case_id: amar}\n",
    "case_solutions = dict(zip(df['case_id'], df['amar']))\n",
    "\n",
    "# Fungsi retrieve() untuk top-k case_id + similarity score\n",
    "def retrieve_with_score(query: str, k: int = 5):\n",
    "    query_vec = vectorizer.transform([query.lower()])\n",
    "    sims = cosine_similarity(query_vec, tfidf_matrix).flatten()\n",
    "    top_k_idx = sims.argsort()[-k:][::-1]\n",
    "    top_k_ids = df.iloc[top_k_idx]['case_id'].tolist()\n",
    "    top_k_scores = sims[top_k_idx]\n",
    "    return list(zip(top_k_ids, top_k_scores))\n",
    "\n",
    "# Fungsi Prediksi Majority Vote\n",
    "def predict_outcome_majority(query: str, k: int = 5):\n",
    "    top_k = retrieve_with_score(query, k)\n",
    "    solutions = [case_solutions[cid] for cid, _ in top_k]\n",
    "    most_common = Counter(solutions).most_common(1)[0][0]\n",
    "    return most_common, [cid for cid, _ in top_k]\n",
    "\n",
    "# Fungsi Prediksi Weighted Vote\n",
    "def predict_outcome_weighted(query: str, k: int = 5):\n",
    "    top_k = retrieve_with_score(query, k)\n",
    "    weight_map = {}\n",
    "    for cid, score in top_k:\n",
    "        sol = case_solutions[cid]\n",
    "        weight_map[sol] = weight_map.get(sol, 0) + score\n",
    "    best_solution = max(weight_map.items(), key=lambda x: x[1])[0]\n",
    "    return best_solution, [cid for cid, _ in top_k]\n",
    "\n",
    "# Prediksi semua query uji → Simpan hasil\n",
    "Path(\"D:/SEMESTER 6/PROJECT CBR/data/results\").mkdir(parents=True, exist_ok=True)\n",
    "results = []\n",
    "\n",
    "for q in queries:\n",
    "    query_id = q['query_id']\n",
    "    query_text = q['query']\n",
    "\n",
    "    pred_sol, top_k_ids = predict_outcome_majority(query_text)\n",
    "\n",
    "    results.append({\n",
    "        \"query_id\": query_id,\n",
    "        \"query_text\": query_text,\n",
    "        \"predicted_solution\": pred_sol,\n",
    "        \"top_5_case_ids\": top_k_ids\n",
    "    })\n",
    "\n",
    "# Simpan ke CSV\n",
    "results_df = pd.DataFrame(results)\n",
    "results_df.to_csv(\"D:/SEMESTER 6/PROJECT CBR/data/results/predictions.csv\", index=False)\n",
    "\n",
    "print(\"File D:/SEMESTER 6/PROJECT CBR/data/results/predictions.csv berhasil dibuat.\")"
   ]
  }
 ],
 "metadata": {
  "kernelspec": {
   "display_name": "Python 3",
   "language": "python",
   "name": "python3"
  },
  "language_info": {
   "codemirror_mode": {
    "name": "ipython",
    "version": 3
   },
   "file_extension": ".py",
   "mimetype": "text/x-python",
   "name": "python",
   "nbconvert_exporter": "python",
   "pygments_lexer": "ipython3",
   "version": "3.12.6"
  }
 },
 "nbformat": 4,
 "nbformat_minor": 5
}
